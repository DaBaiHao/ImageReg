{
 "cells": [
  {
   "cell_type": "markdown",
   "metadata": {},
   "source": [
    "### ORB(Oriented Fast and Rotated BRIEF)，结合Fast与Brief算法\n",
    " - 给Fast特征点增加了方向性，使得特征点具有旋转不变性，\n",
    " - 并提出了构造金字塔方法，解决尺度不变性\n",
    " - 特征提取是由FAST（Features from Accelerated Segment Test）算法发展来的\n",
    " - 特征点描述是根据BRIEF（Binary Robust Independent Elementary Features）特征描述算法改进的\n",
    " - ORB特征是将FAST特征点的检测方法与BRIEF特征描述子结合起来\n",
    " - 并在它们原来的基础上做了改进与优化\n",
    "\n",
    "***ORB主要解决BRIEF描述子不具备旋转不变性的问题。实验证明，ORB远优于之前的SIFT与SURF算法，ORB算法的速度是sift的100倍，是surf的10倍***"
   ]
  },
  {
   "cell_type": "code",
   "execution_count": 1,
   "metadata": {},
   "outputs": [],
   "source": [
    "import numpy as np\n",
    "import cv2\n",
    "from matplotlib import pyplot as plt"
   ]
  },
  {
   "cell_type": "code",
   "execution_count": null,
   "metadata": {},
   "outputs": [],
   "source": []
  }
 ],
 "metadata": {
  "kernelspec": {
   "display_name": "Python 3",
   "language": "python",
   "name": "python3"
  },
  "language_info": {
   "codemirror_mode": {
    "name": "ipython",
    "version": 3
   },
   "file_extension": ".py",
   "mimetype": "text/x-python",
   "name": "python",
   "nbconvert_exporter": "python",
   "pygments_lexer": "ipython3",
   "version": "3.6.5"
  }
 },
 "nbformat": 4,
 "nbformat_minor": 2
}
